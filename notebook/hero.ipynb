version https://git-lfs.github.com/spec/v1
oid sha256:4ca3556132edd0fd3828bd8b8dd15d7119aeb97b8dedde591149f42a74cf21c5
size 334072652
